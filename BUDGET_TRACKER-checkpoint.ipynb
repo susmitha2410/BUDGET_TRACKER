{
 "cells": [
  {
   "cell_type": "code",
   "execution_count": 2,
   "id": "8b141c12-d11f-488d-97c2-4160d8baff44",
   "metadata": {},
   "outputs": [
    {
     "name": "stdout",
     "output_type": "stream",
     "text": [
      "\n",
      "Budget Tracker Menu:\n",
      "1. Add Income\n",
      "2. Add Expense\n",
      "3. View Budget\n",
      "4. Analyze Expenses\n",
      "5. Exit\n"
     ]
    },
    {
     "name": "stdin",
     "output_type": "stream",
     "text": [
      "Choose an option:  3\n"
     ]
    },
    {
     "name": "stdout",
     "output_type": "stream",
     "text": [
      "\n",
      "Total Income: $47.00\n",
      "Total Expenses: $0.00\n",
      "Remaining Budget: $47.00\n",
      "\n",
      "\n",
      "Budget Tracker Menu:\n",
      "1. Add Income\n",
      "2. Add Expense\n",
      "3. View Budget\n",
      "4. Analyze Expenses\n",
      "5. Exit\n"
     ]
    },
    {
     "name": "stdin",
     "output_type": "stream",
     "text": [
      "Choose an option:  5\n"
     ]
    },
    {
     "name": "stdout",
     "output_type": "stream",
     "text": [
      "Goodbye!\n"
     ]
    }
   ],
   "source": [
    "import csv\n",
    "import os\n",
    "\n",
    "# File to store transactions\n",
    "DATA_FILE = 'transactions.csv'\n",
    "\n",
    "def load_transactions():\n",
    "    \"\"\"Load transactions from the CSV file.\"\"\"\n",
    "    transactions = []\n",
    "    if os.path.exists(DATA_FILE):\n",
    "        with open(DATA_FILE, mode='r', newline='') as file:\n",
    "            reader = csv.DictReader(file)\n",
    "            for row in reader:\n",
    "                row['amount'] = float(row['amount'])\n",
    "                transactions.append(row)\n",
    "    return transactions\n",
    "\n",
    "def save_transaction(transaction):\n",
    "    \"\"\"Save a transaction to the CSV file.\"\"\"\n",
    "    file_exists = os.path.isfile(DATA_FILE)\n",
    "    with open(DATA_FILE, mode='a', newline='') as file:\n",
    "        writer = csv.DictWriter(file, fieldnames=['type', 'category', 'amount'])\n",
    "        if not file_exists:\n",
    "            writer.writeheader()\n",
    "        writer.writerow(transaction)\n",
    "\n",
    "def add_transaction(transaction_type):\n",
    "    \"\"\"Add an income or expense transaction.\"\"\"\n",
    "    category = input(f\"Enter the {transaction_type} category: \")\n",
    "    amount = float(input(f\"Enter the {transaction_type} amount: \"))\n",
    "    transaction = {'type': transaction_type, 'category': category, 'amount': amount}\n",
    "    save_transaction(transaction)\n",
    "    print(f\"{transaction_type.capitalize()} added successfully!\")\n",
    "\n",
    "def calculate_budget(transactions):\n",
    "    \"\"\"Calculate the remaining budget.\"\"\"\n",
    "    total_income = sum(t['amount'] for t in transactions if t['type'] == 'income')\n",
    "    total_expense = sum(t['amount'] for t in transactions if t['type'] == 'expense')\n",
    "    remaining_budget = total_income - total_expense\n",
    "    return total_income, total_expense, remaining_budget\n",
    "\n",
    "def analyze_expenses(transactions):\n",
    "    \"\"\"Analyze and display expense trends.\"\"\"\n",
    "    categories = {}\n",
    "    for t in transactions:\n",
    "        if t['type'] == 'expense':\n",
    "            if t['category'] not in categories:\n",
    "                categories[t['category']] = 0\n",
    "            categories[t['category']] += t['amount']\n",
    "    \n",
    "    print(\"\\nExpense Analysis:\")\n",
    "    for category, amount in categories.items():\n",
    "        print(f\"{category}: ${amount:.2f}\")\n",
    "    print()\n",
    "\n",
    "def main():\n",
    "    \"\"\"Main function to run the budget tracker.\"\"\"\n",
    "    transactions = load_transactions()\n",
    "    \n",
    "    while True:\n",
    "        print(\"\\nBudget Tracker Menu:\")\n",
    "        print(\"1. Add Income\")\n",
    "        print(\"2. Add Expense\")\n",
    "        print(\"3. View Budget\")\n",
    "        print(\"4. Analyze Expenses\")\n",
    "        print(\"5. Exit\")\n",
    "        \n",
    "        choice = input(\"Choose an option: \")\n",
    "        \n",
    "        if choice == '1':\n",
    "            add_transaction('income')\n",
    "        elif choice == '2':\n",
    "            add_transaction('expense')\n",
    "        elif choice == '3':\n",
    "            total_income, total_expense, remaining_budget = calculate_budget(transactions)\n",
    "            print(f\"\\nTotal Income: ${total_income:.2f}\")\n",
    "            print(f\"Total Expenses: ${total_expense:.2f}\")\n",
    "            print(f\"Remaining Budget: ${remaining_budget:.2f}\\n\")\n",
    "        elif choice == '4':\n",
    "            analyze_expenses(transactions)\n",
    "        elif choice == '5':\n",
    "            print(\"Goodbye!\")\n",
    "            break\n",
    "        else:\n",
    "            print(\"Invalid choice. Please try again.\")\n",
    "        \n",
    "        transactions = load_transactions()  # Reload transactions after each operation\n",
    "\n",
    "if __name__ == \"__main__\":\n",
    "    main()\n"
   ]
  },
  {
   "cell_type": "code",
   "execution_count": null,
   "id": "a9a353bb-7ed4-4ad3-b6f3-06591db1b4fc",
   "metadata": {},
   "outputs": [],
   "source": []
  }
 ],
 "metadata": {
  "kernelspec": {
   "display_name": "Python 3 (ipykernel)",
   "language": "python",
   "name": "python3"
  },
  "language_info": {
   "codemirror_mode": {
    "name": "ipython",
    "version": 3
   },
   "file_extension": ".py",
   "mimetype": "text/x-python",
   "name": "python",
   "nbconvert_exporter": "python",
   "pygments_lexer": "ipython3",
   "version": "3.10.11"
  }
 },
 "nbformat": 4,
 "nbformat_minor": 5
}
